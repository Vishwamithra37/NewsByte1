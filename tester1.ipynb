{
 "cells": [
  {
   "cell_type": "code",
   "execution_count": 4,
   "metadata": {},
   "outputs": [
    {
     "name": "stdout",
     "output_type": "stream",
     "text": [
      " * Serving Flask app '__main__' (lazy loading)\n",
      " * Environment: production\n",
      "\u001b[31m   WARNING: This is a development server. Do not use it in a production deployment.\u001b[0m\n",
      "\u001b[2m   Use a production WSGI server instead.\u001b[0m\n",
      " * Debug mode: off\n"
     ]
    },
    {
     "name": "stderr",
     "output_type": "stream",
     "text": [
      " * Running on http://localhost:5000/ (Press CTRL+C to quit)\n",
      "127.0.0.1 - - [17/Mar/2022 20:21:53] \"GET / HTTP/1.1\" 404 -\n",
      "127.0.0.1 - - [17/Mar/2022 20:22:02] \"GET / HTTP/1.1\" 404 -\n",
      "[2022-03-17 20:22:05,960] ERROR in app: Exception on /apple [GET]\n",
      "Traceback (most recent call last):\n",
      "  File \"H:\\py39\\lib\\site-packages\\flask\\app.py\", line 2073, in wsgi_app\n",
      "    response = self.full_dispatch_request()\n",
      "  File \"H:\\py39\\lib\\site-packages\\flask\\app.py\", line 1518, in full_dispatch_request\n",
      "    rv = self.handle_user_exception(e)\n",
      "  File \"H:\\py39\\lib\\site-packages\\flask\\app.py\", line 1516, in full_dispatch_request\n",
      "    rv = self.dispatch_request()\n",
      "  File \"H:\\py39\\lib\\site-packages\\flask\\app.py\", line 1502, in dispatch_request\n",
      "    return self.ensure_sync(self.view_functions[rule.endpoint])(**req.view_args)\n",
      "TypeError: index() got an unexpected keyword argument 'name'\n",
      "127.0.0.1 - - [17/Mar/2022 20:22:05] \"GET /apple HTTP/1.1\" 500 -\n"
     ]
    }
   ],
   "source": [
    "import flask\n",
    "\n",
    "app = flask.Flask(__name__)\n",
    "\n",
    "@app.route('/<name>')\n",
    "def index():\n",
    "    name2=name+\"2\"\n",
    "    print(name2)\n",
    "    return \"<h1>Hello World!</h1>\"\n",
    "\n",
    "if __name__ == '__main__':\n",
    "    app.run(host=\"localhost\",debug=False)"
   ]
  },
  {
   "cell_type": "code",
   "execution_count": 7,
   "metadata": {},
   "outputs": [
    {
     "name": "stdout",
     "output_type": "stream",
     "text": [
      "43\n",
      "37\n"
     ]
    }
   ],
   "source": [
    "import smaz\n",
    "a=\"https://pypi.org/project/compress-fasttext/\"\n",
    "b=a\n",
    "# Take 3 letters at a time and replace with a random not english unicode character.\n",
    "b=smaz.compress(b)\n",
    "print(len(a)) \n",
    "print(len(b))   \n"
   ]
  },
  {
   "cell_type": "code",
   "execution_count": 57,
   "metadata": {},
   "outputs": [
    {
     "name": "stdout",
     "output_type": "stream",
     "text": [
      "{\n",
      "  \"short_url\": \"http://localhost:5000/8ffdef\"\n",
      "}\n",
      "\n"
     ]
    }
   ],
   "source": [
    "import requests\n",
    "\n",
    "a={\"url\":\"https://www.google.com?q=hello\"}\n",
    "r=requests.post(\"http://localhost:5000/api/compressor\",json=a)\n",
    "print(r.text)\n",
    "\n",
    "\n"
   ]
  },
  {
   "cell_type": "code",
   "execution_count": null,
   "metadata": {},
   "outputs": [],
   "source": []
  }
 ],
 "metadata": {
  "interpreter": {
   "hash": "de0a83dae28d52ea6e6d458b9e85298e977b6880de16e96cd567e9323af5aef0"
  },
  "kernelspec": {
   "display_name": "Python 3.9.6 64-bit",
   "language": "python",
   "name": "python3"
  },
  "language_info": {
   "codemirror_mode": {
    "name": "ipython",
    "version": 3
   },
   "file_extension": ".py",
   "mimetype": "text/x-python",
   "name": "python",
   "nbconvert_exporter": "python",
   "pygments_lexer": "ipython3",
   "version": "3.9.6"
  },
  "orig_nbformat": 4
 },
 "nbformat": 4,
 "nbformat_minor": 2
}
